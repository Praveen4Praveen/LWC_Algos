{
 "cells": [
  {
   "cell_type": "code",
   "execution_count": 3,
   "id": "a0a32899",
   "metadata": {},
   "outputs": [
    {
     "ename": "ModuleNotFoundError",
     "evalue": "No module named 'klein'",
     "output_type": "error",
     "traceback": [
      "\u001b[0;31m---------------------------------------------------------------------------\u001b[0m",
      "\u001b[0;31mModuleNotFoundError\u001b[0m                       Traceback (most recent call last)",
      "Input \u001b[0;32mIn [3]\u001b[0m, in \u001b[0;36m<cell line: 1>\u001b[0;34m()\u001b[0m\n\u001b[0;32m----> 1\u001b[0m \u001b[38;5;28;01mimport\u001b[39;00m \u001b[38;5;21;01mklein\u001b[39;00m\n\u001b[1;32m      2\u001b[0m \u001b[38;5;28;01mimport\u001b[39;00m \u001b[38;5;21;01mbinascii\u001b[39;00m\n\u001b[1;32m      4\u001b[0m key\u001b[38;5;241m=\u001b[39m\u001b[38;5;241m0xFFFFFFFFFFFFFFFF\u001b[39m\n",
      "\u001b[0;31mModuleNotFoundError\u001b[0m: No module named 'klein'"
     ]
    }
   ],
   "source": [
    "import klein\n",
    "import binascii\n",
    "\n",
    "key=0xFFFFFFFFFFFFFFFF\n",
    "\n",
    "key=\"Test\"\n",
    "plaintext=\"Hello\"\n",
    "\n",
    "k=int(binascii.hexlify(key.encode()),16)\n",
    "m=int(binascii.hexlify(plaintext.encode()),16)\n",
    "\n",
    "# Test for klein64\n",
    "# k=0xFFFFFFFFFFFFFFFF\n",
    "# m=0x0000000000000000 # Cipher 0x6456764e8602e154\n",
    "\n",
    "# Test for klein80\n",
    "# k=0xFFFFFFFFFFFFFFFFFFFF\n",
    "# m=0x0000000000000000 # Cipher 0x82247502273DCC5F\n",
    "\n",
    "# Test for klein96\n",
    "# k=0xFFFFFFFFFFFFFFFFFFFFFFFF\n",
    "# m=0x0000000000000000 # Cipher 0x15A3A03386A7FEC6\n",
    "\n",
    "klein64 = klein.KLEIN(nr=12, size=64) # 64-bit encryption key\n",
    "klein80 = klein.KLEIN(nr=16, size=80)\n",
    "klein96 = klein.KLEIN(nr=20, size=96)\n",
    "\n",
    "k64=klein64.encrypt(k, m)\n",
    "k80=klein80.encrypt(k, m)\n",
    "k96=klein96.encrypt(k, m)\n",
    "\n",
    "print (\"KLEIN64 (NR=12, Size=64):\\t\",hex(k64))\n",
    "print (\"KLEIN80 (NR=16, Size=80):\\t\",hex(k80))\n",
    "print (\"KLEIN96 (NR=20, Size=96):\\t\",hex(k96))\n"
   ]
  },
  {
   "cell_type": "code",
   "execution_count": 6,
   "id": "90502070",
   "metadata": {},
   "outputs": [
    {
     "ename": "ModuleNotFoundError",
     "evalue": "No module named 'klein'",
     "output_type": "error",
     "traceback": [
      "\u001b[0;31m---------------------------------------------------------------------------\u001b[0m",
      "\u001b[0;31mModuleNotFoundError\u001b[0m                       Traceback (most recent call last)",
      "Input \u001b[0;32mIn [6]\u001b[0m, in \u001b[0;36m<cell line: 1>\u001b[0;34m()\u001b[0m\n\u001b[0;32m----> 1\u001b[0m \u001b[38;5;28;01mimport\u001b[39;00m \u001b[38;5;21;01mklein\u001b[39;00m\n",
      "\u001b[0;31mModuleNotFoundError\u001b[0m: No module named 'klein'"
     ]
    }
   ],
   "source": [
    "import klein"
   ]
  },
  {
   "cell_type": "code",
   "execution_count": null,
   "id": "8a57108b",
   "metadata": {},
   "outputs": [],
   "source": []
  }
 ],
 "metadata": {
  "kernelspec": {
   "display_name": "Python 3 (ipykernel)",
   "language": "python",
   "name": "python3"
  },
  "language_info": {
   "codemirror_mode": {
    "name": "ipython",
    "version": 3
   },
   "file_extension": ".py",
   "mimetype": "text/x-python",
   "name": "python",
   "nbconvert_exporter": "python",
   "pygments_lexer": "ipython3",
   "version": "3.9.12"
  }
 },
 "nbformat": 4,
 "nbformat_minor": 5
}
